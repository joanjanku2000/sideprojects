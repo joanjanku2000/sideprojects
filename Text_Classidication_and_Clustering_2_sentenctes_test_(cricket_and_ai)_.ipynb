{
  "nbformat": 4,
  "nbformat_minor": 0,
  "metadata": {
    "colab": {
      "provenance": [],
      "include_colab_link": true
    },
    "kernelspec": {
      "name": "python3",
      "display_name": "Python 3"
    },
    "language_info": {
      "name": "python"
    }
  },
  "cells": [
    {
      "cell_type": "markdown",
      "metadata": {
        "id": "view-in-github",
        "colab_type": "text"
      },
      "source": [
        "<a href=\"https://colab.research.google.com/github/joanjanku2000/sideprojects/blob/Billionare_Crud/Text_Classidication_and_Clustering_2_sentenctes_test_(cricket_and_ai)_.ipynb\" target=\"_parent\"><img src=\"https://colab.research.google.com/assets/colab-badge.svg\" alt=\"Open In Colab\"/></a>"
      ]
    },
    {
      "cell_type": "code",
      "source": [
        "import nltk\n",
        "nltk.download('stopwords')\n",
        "nltk.download('wordnet')\n",
        "nltk.download('omw-1.4')\n",
        "nltk.download('cairo')"
      ],
      "metadata": {
        "colab": {
          "base_uri": "https://localhost:8080/"
        },
        "id": "cDiD4qxyOyKK",
        "outputId": "460b08e1-2a41-4f42-90cb-ac4f5b2919b7"
      },
      "execution_count": null,
      "outputs": [
        {
          "output_type": "stream",
          "name": "stderr",
          "text": [
            "[nltk_data] Downloading package stopwords to /root/nltk_data...\n",
            "[nltk_data]   Package stopwords is already up-to-date!\n",
            "[nltk_data] Downloading package wordnet to /root/nltk_data...\n",
            "[nltk_data]   Package wordnet is already up-to-date!\n",
            "[nltk_data] Downloading package omw-1.4 to /root/nltk_data...\n",
            "[nltk_data]   Package omw-1.4 is already up-to-date!\n",
            "[nltk_data] Error loading cairo: Package 'cairo' not found in index\n"
          ]
        },
        {
          "output_type": "execute_result",
          "data": {
            "text/plain": [
              "False"
            ]
          },
          "metadata": {},
          "execution_count": 20
        }
      ]
    },
    {
      "cell_type": "code",
      "source": [
        "# Importimi i librarive \n",
        "from sklearn.feature_extraction.text import TfidfVectorizer\n",
        "from sklearn.neighbors import KNeighborsClassifier\n",
        "from sklearn.cluster import KMeans\n",
        "from nltk.corpus import stopwords \n",
        "from nltk.stem.wordnet import WordNetLemmatizer\n",
        "import string\n",
        "import re\n",
        "import numpy as np\n",
        "from collections import Counter"
      ],
      "metadata": {
        "id": "K8LG9ektGqIy"
      },
      "execution_count": null,
      "outputs": []
    },
    {
      "cell_type": "code",
      "source": [
        "stop = set(stopwords.words('english')) #heq nga fjalitë fjalët e ndaluara\n",
        "exclude = set(string.punctuation)   #fshi shenjat e pikësimit\n",
        "lemma = WordNetLemmatizer()         #bëj lematizimin e fjaleve"
      ],
      "metadata": {
        "id": "B0bZRYMrGtJx"
      },
      "execution_count": null,
      "outputs": []
    },
    {
      "cell_type": "code",
      "source": [
        "# Përpunimi i fjalive ku heqim shenjat e pikësimit,fjalët e ndaluara dhe numrat \n",
        "def clean(doc):  #përdor funksionin clean i cili mer si parametër dokumentin\n",
        "    stop_free = \" \".join([i for i in doc.lower().split() if i not in stop]) #metoda join pas heqjes së stop words\n",
        "    punc_free = ''.join(ch for ch in stop_free if ch not in exclude) #metoda join pas heqjes së shenjave të pikësimit\n",
        "    normalized = \" \".join(lemma.lemmatize(word) for word in punc_free.split())#metoda join pas lematizimit\n",
        "    processed = re.sub(r\"\\d+\",\"\",normalized)\n",
        "    y = processed.split()\n",
        "    return y"
      ],
      "metadata": {
        "id": "kEwvw-oQGwa3"
      },
      "execution_count": null,
      "outputs": []
    },
    {
      "cell_type": "code",
      "source": [
        "path = \"/content/Sentences.txt\" #deklaroj pathin në të cilin do të marr të dhënat\n",
        "\n",
        "train_clean_sentences = []\n",
        "fp = open(path,'r')       #hap file\n",
        "for line in fp:           #kaloj në një cikël for për të gjitha të dhënat që do trajnohen\n",
        "    line = line.strip()   #kthen stringat me hapësira të hequra\n",
        "    cleaned = clean(line)   \n",
        "    cleaned = ' '.join(cleaned)\n",
        "    train_clean_sentences.append(cleaned)   #fjalitë e trajnuara i shtohen atyre të përpunuara\n",
        "       \n",
        "vectorizer = TfidfVectorizer(stop_words='english') \n",
        "X = vectorizer.fit_transform(train_clean_sentences)\n",
        "\n",
        "#Krijimi i etiketave për 30 fjalitë qe do trajnohen \n",
        "y_train = np.zeros(30)\n",
        "y_train[10:20] = 1\n",
        "y_train[20:30] = 2\n",
        "\n",
        "# Clustering i dokumentit me klasifikuesin KNN \n",
        "modelknn = KNeighborsClassifier(n_neighbors=5)\n",
        "modelknn.fit(X,y_train)\n",
        "\n",
        "# Clustering i të dhënave të trajnuara me teknikën K-means \n",
        "modelkmeans = KMeans(n_clusters=3, init='k-means++', max_iter=200, n_init=100)\n",
        "modelkmeans.fit(X)\n"
      ],
      "metadata": {
        "colab": {
          "base_uri": "https://localhost:8080/"
        },
        "id": "J29dDNTxG2iO",
        "outputId": "cbe1ee33-e3c7-48f2-a0f0-8e2726753b5e"
      },
      "execution_count": null,
      "outputs": [
        {
          "output_type": "execute_result",
          "data": {
            "text/plain": [
              "KMeans(max_iter=200, n_clusters=3, n_init=100)"
            ]
          },
          "metadata": {},
          "execution_count": 7
        }
      ]
    },
    {
      "cell_type": "code",
      "source": [
        "# Test Sentences\n",
        "import random\n",
        "test_path = \"/content/Sentences_Tests.txt\"\n",
        "test_clean_sentences = []\n",
        "fp1 = open(test_path,'r')      \n",
        "\n",
        "for line in fp1:           \n",
        "    line = line.strip()     \n",
        "    #cleaned = ' '.join(cleaned)\n",
        "    test_clean_sentences.append(line)  \n",
        "\n",
        "#random.shuffle(test_clean_sentences)\n",
        "print(test_clean_sentences)"
      ],
      "metadata": {
        "colab": {
          "base_uri": "https://localhost:8080/"
        },
        "id": "ug1Mee9TLAWb",
        "outputId": "90388211-cb2e-4f1c-eff0-4a072191ed2d"
      },
      "execution_count": null,
      "outputs": [
        {
          "output_type": "stream",
          "name": "stdout",
          "text": [
            "['Cricket is a bat-and-ball game played between two teams of eleven players on a field at the centre of which is a 22-yard (20-metre) pitch with a wicket at each end, each comprising two bails balanced on three stumps.', 'Means of dismissal include being bowled, when the ball hits the stumps and dislodges the bails, and by the fielding side either catching the ball after it is hit by the bat, but before it hits the ground, or hitting a wicket with the ball before a batter can cross the crease in front of the wicket.', 'When ten batters have been dismissed, the innings ends and the teams swap roles.', 'The game is adjudicated by two umpires, aided by a third umpire and match referee in international matches.', \"They communicate with two off-field scorers who record the match's statistical information.\", 'Forms of cricket range from Twenty20, with each team batting for a single innings of 20 overs and the game generally lasting three hours, to Test matches played over five days.', 'Traditionally cricketers play in all-white kit, but in limited overs cricket they wear club or team colours. In addition to the basic kit, some players wear protective gear to prevent injury caused by the ball, which is a hard, solid spheroid made of compressed leather with a slightly raised sewn seam enclosing a cork core layered with tightly wound string.', \"Women's cricket, which is organised and played separately, has also achieved international standard.\", 'Artificial intelligence (AI) is intelligence demonstrated by machines, as opposed to the natural intelligence displayed by animals and humans.', 'AI research has been defined as the field of study of intelligent agents, which refers to any system that perceives its environment and takes actions that maximize its chance of achieving its goals.', 'The term \"artificial intelligence\" had previously been used to describe machines that mimic and display \"human\" cognitive skills that are associated with the human mind, such as \"learning\" and \"problem-solving\".', 'This definition has since been rejected by major AI researchers who now describe AI in terms of rationality and acting rationally, which does not limit how intelligence can be articulated.', 'This raised philosophical arguments about the mind and the ethical consequences of creating artificial beings endowed with human-like intelligence; these issues have previously been explored by myth, fiction and philosophy since antiquity.', 'Computer scientists and philosophers have since suggested that AI may become an existential risk to humanity if its rational capacities are not steered towards beneficial goals.', 'The study of mechanical or \"formal\" reasoning began with philosophers and mathematicians in antiquity.', 'The study of mathematical logic led directly to Alan Turing\\'s theory of computation, which suggested that a machine, by shuffling symbols as simple as \"0\" and \"1\", could simulate any conceivable act of mathematical deduction.', 'Proponents included Allen Newell, Herbert A. Simon, and Marvin Minsky.', '']\n"
          ]
        }
      ]
    },
    {
      "cell_type": "markdown",
      "source": [
        "**#Faza e testimit**"
      ],
      "metadata": {
        "id": "mvvJuQd6W-IR"
      }
    },
    {
      "cell_type": "code",
      "execution_count": null,
      "metadata": {
        "colab": {
          "base_uri": "https://localhost:8080/"
        },
        "id": "O0gnZafI5Kvx",
        "outputId": "2eaf08c9-6eb0-4edf-9d30-d5def8a09ab8"
      },
      "outputs": [
        {
          "output_type": "stream",
          "name": "stdout",
          "text": [
            "\n",
            "Below 3 sentences will be predicted against the learned nieghbourhood and learned clusters: \n",
            "0 Cricket is a bat-and-ball game played between two teams of eleven players on a field at the centre of which is a 22-yard (20-metre) pitch with a wicket at each end, each comprising two bails balanced on three stumps.\n",
            "1 Means of dismissal include being bowled, when the ball hits the stumps and dislodges the bails, and by the fielding side either catching the ball after it is hit by the bat, but before it hits the ground, or hitting a wicket with the ball before a batter can cross the crease in front of the wicket.\n",
            "2 When ten batters have been dismissed, the innings ends and the teams swap roles.\n",
            "3 The game is adjudicated by two umpires, aided by a third umpire and match referee in international matches.\n",
            "4 They communicate with two off-field scorers who record the match's statistical information.\n",
            "5 Forms of cricket range from Twenty20, with each team batting for a single innings of 20 overs and the game generally lasting three hours, to Test matches played over five days.\n",
            "6 Traditionally cricketers play in all-white kit, but in limited overs cricket they wear club or team colours. In addition to the basic kit, some players wear protective gear to prevent injury caused by the ball, which is a hard, solid spheroid made of compressed leather with a slightly raised sewn seam enclosing a cork core layered with tightly wound string.\n",
            "7 Women's cricket, which is organised and played separately, has also achieved international standard.\n",
            "8 Artificial intelligence (AI) is intelligence demonstrated by machines, as opposed to the natural intelligence displayed by animals and humans.\n",
            "9 AI research has been defined as the field of study of intelligent agents, which refers to any system that perceives its environment and takes actions that maximize its chance of achieving its goals.\n",
            "10 The term \"artificial intelligence\" had previously been used to describe machines that mimic and display \"human\" cognitive skills that are associated with the human mind, such as \"learning\" and \"problem-solving\".\n",
            "11 This definition has since been rejected by major AI researchers who now describe AI in terms of rationality and acting rationally, which does not limit how intelligence can be articulated.\n",
            "12 This raised philosophical arguments about the mind and the ethical consequences of creating artificial beings endowed with human-like intelligence; these issues have previously been explored by myth, fiction and philosophy since antiquity.\n",
            "13 Computer scientists and philosophers have since suggested that AI may become an existential risk to humanity if its rational capacities are not steered towards beneficial goals.\n",
            "14 The study of mechanical or \"formal\" reasoning began with philosophers and mathematicians in antiquity.\n",
            "15 The study of mathematical logic led directly to Alan Turing's theory of computation, which suggested that a machine, by shuffling symbols as simple as \"0\" and \"1\", could simulate any conceivable act of mathematical deduction.\n",
            "16 Proponents included Allen Newell, Herbert A. Simon, and Marvin Minsky.\n",
            "17 \n",
            "\n",
            "-------------------------------PREDICTIONS BY KNN------------------------------------------\n",
            "Cricket is a bat-and-ball game played between two teams of eleven players on a field at the centre of which is a 22-yard (20-metre) pitch with a wicket at each end, each comprising two bails balanced on three stumps. : Cricket\n",
            "Means of dismissal include being bowled, when the ball hits the stumps and dislodges the bails, and by the fielding side either catching the ball after it is hit by the bat, but before it hits the ground, or hitting a wicket with the ball before a batter can cross the crease in front of the wicket. : Cricket\n",
            "When ten batters have been dismissed, the innings ends and the teams swap roles. : Cricket\n",
            "The game is adjudicated by two umpires, aided by a third umpire and match referee in international matches. : Cricket\n",
            "They communicate with two off-field scorers who record the match's statistical information. : Cricket\n",
            "Forms of cricket range from Twenty20, with each team batting for a single innings of 20 overs and the game generally lasting three hours, to Test matches played over five days. : Cricket\n",
            "Traditionally cricketers play in all-white kit, but in limited overs cricket they wear club or team colours. In addition to the basic kit, some players wear protective gear to prevent injury caused by the ball, which is a hard, solid spheroid made of compressed leather with a slightly raised sewn seam enclosing a cork core layered with tightly wound string. : Cricket\n",
            "Women's cricket, which is organised and played separately, has also achieved international standard. : Cricket\n",
            "Artificial intelligence (AI) is intelligence demonstrated by machines, as opposed to the natural intelligence displayed by animals and humans. : AI\n",
            "AI research has been defined as the field of study of intelligent agents, which refers to any system that perceives its environment and takes actions that maximize its chance of achieving its goals. : AI\n",
            "The term \"artificial intelligence\" had previously been used to describe machines that mimic and display \"human\" cognitive skills that are associated with the human mind, such as \"learning\" and \"problem-solving\". : AI\n",
            "This definition has since been rejected by major AI researchers who now describe AI in terms of rationality and acting rationally, which does not limit how intelligence can be articulated. : AI\n",
            "This raised philosophical arguments about the mind and the ethical consequences of creating artificial beings endowed with human-like intelligence; these issues have previously been explored by myth, fiction and philosophy since antiquity. : AI\n",
            "Computer scientists and philosophers have since suggested that AI may become an existential risk to humanity if its rational capacities are not steered towards beneficial goals. : AI\n",
            "The study of mechanical or \"formal\" reasoning began with philosophers and mathematicians in antiquity. : Chemistry\n",
            "The study of mathematical logic led directly to Alan Turing's theory of computation, which suggested that a machine, by shuffling symbols as simple as \"0\" and \"1\", could simulate any conceivable act of mathematical deduction. : AI\n",
            "Proponents included Allen Newell, Herbert A. Simon, and Marvin Minsky. : Cricket\n",
            " : Cricket\n",
            "\n",
            "-------------------------------PREDICTIONS BY K-Means--------------------------------------\n",
            "\n",
            "Index of Cricket cluster :  1\n",
            "Index of Artificial Intelligence cluster :  0\n",
            "Index of Chemistry cluster :  2\n",
            "\n",
            "\n",
            "Cricket is a bat-and-ball game played between two teams of eleven players on a field at the centre of which is a 22-yard (20-metre) pitch with a wicket at each end, each comprising two bails balanced on three stumps. : 1\n",
            "Means of dismissal include being bowled, when the ball hits the stumps and dislodges the bails, and by the fielding side either catching the ball after it is hit by the bat, but before it hits the ground, or hitting a wicket with the ball before a batter can cross the crease in front of the wicket. : 1\n",
            "When ten batters have been dismissed, the innings ends and the teams swap roles. : 1\n",
            "The game is adjudicated by two umpires, aided by a third umpire and match referee in international matches. : 1\n",
            "They communicate with two off-field scorers who record the match's statistical information. : 0\n",
            "Forms of cricket range from Twenty20, with each team batting for a single innings of 20 overs and the game generally lasting three hours, to Test matches played over five days. : 1\n",
            "Traditionally cricketers play in all-white kit, but in limited overs cricket they wear club or team colours. In addition to the basic kit, some players wear protective gear to prevent injury caused by the ball, which is a hard, solid spheroid made of compressed leather with a slightly raised sewn seam enclosing a cork core layered with tightly wound string. : 1\n",
            "Women's cricket, which is organised and played separately, has also achieved international standard. : 1\n",
            "Artificial intelligence (AI) is intelligence demonstrated by machines, as opposed to the natural intelligence displayed by animals and humans. : 0\n",
            "AI research has been defined as the field of study of intelligent agents, which refers to any system that perceives its environment and takes actions that maximize its chance of achieving its goals. : 0\n",
            "The term \"artificial intelligence\" had previously been used to describe machines that mimic and display \"human\" cognitive skills that are associated with the human mind, such as \"learning\" and \"problem-solving\". : 0\n",
            "This definition has since been rejected by major AI researchers who now describe AI in terms of rationality and acting rationally, which does not limit how intelligence can be articulated. : 0\n",
            "This raised philosophical arguments about the mind and the ethical consequences of creating artificial beings endowed with human-like intelligence; these issues have previously been explored by myth, fiction and philosophy since antiquity. : 0\n",
            "Computer scientists and philosophers have since suggested that AI may become an existential risk to humanity if its rational capacities are not steered towards beneficial goals. : 0\n",
            "The study of mechanical or \"formal\" reasoning began with philosophers and mathematicians in antiquity. : 0\n",
            "The study of mathematical logic led directly to Alan Turing's theory of computation, which suggested that a machine, by shuffling symbols as simple as \"0\" and \"1\", could simulate any conceivable act of mathematical deduction. : 0\n",
            "Proponents included Allen Newell, Herbert A. Simon, and Marvin Minsky. : 0\n",
            " : 0\n",
            "\n",
            "\n"
          ]
        },
        {
          "output_type": "stream",
          "name": "stderr",
          "text": [
            "/usr/local/lib/python3.7/dist-packages/ipykernel_launcher.py:25: DeprecationWarning: `np.int` is a deprecated alias for the builtin `int`. To silence this warning, use `int` by itself. Doing this will not modify any behavior and is safe. When replacing `np.int`, you may wish to use e.g. `np.int64` or `np.int32` to specify the precision. If you wish to review your current use, check the release note link for additional information.\n",
            "Deprecated in NumPy 1.20; for more details and guidance: https://numpy.org/devdocs/release/1.20.0-notes.html#deprecations\n"
          ]
        }
      ],
      "source": [
        "\n",
        "test_clean_sentence = []\n",
        "for test in test_clean_sentences:\n",
        "    cleaned_test = clean(test)\n",
        "    cleaned = ' '.join(cleaned_test)\n",
        "    cleaned = re.sub(r\"\\d+\",\"\",cleaned)\n",
        "    test_clean_sentence.append(cleaned)\n",
        "    \n",
        "Test = vectorizer.transform(test_clean_sentence) \n",
        "\n",
        "true_test_labels = ['Cricket','AI','Chemistry']  #percaktoj etiketat sipas te cilave do klasifikohen\n",
        "predicted_labels_knn = modelknn.predict(Test)  #parashikimet sipas KNN\n",
        "predicted_labels_kmeans = modelkmeans.predict(Test)   #parashikimet sipas K-means\n",
        "\n",
        "print (\"\\nBelow 3 sentences will be predicted against the learned nieghbourhood and learned clusters: \")\n",
        "\n",
        "i = 0;\n",
        "for sentence in test_clean_sentences:\n",
        "  print(i,sentence)\n",
        "  i+=1\n",
        "       # test_sentences[0],\"\\n2. \",test_sentences[1],\"\\n3. \",test_sentences[2], \"\\n4. \",test_sentences[3] )\n",
        "\n",
        "i = 0;\n",
        "print (\"\\n-------------------------------PREDICTIONS BY KNN------------------------------------------\")\n",
        "for sentence in test_clean_sentences:\n",
        "  print(sentence,\":\",true_test_labels[np.int(predicted_labels_knn[i])])\n",
        "  i+=1\n",
        "\n",
        "\n",
        "print (\"\\n-------------------------------PREDICTIONS BY K-Means--------------------------------------\")\n",
        "print (\"\\nIndex of Cricket cluster : \",Counter(modelkmeans.labels_[0:10]).most_common(1)[0][0])\n",
        "print (\"Index of Artificial Intelligence cluster : \", Counter(modelkmeans.labels_[10:20]).most_common(1)[0][0]) #Counter(modelkmeans.labels_[10:20]).most_common(1)[0][0]\n",
        "print (\"Index of Chemistry cluster : \",Counter(modelkmeans.labels_[20:30]).most_common(1)[0][0])\n",
        "\n",
        "print(\"\\n\")\n",
        "i = 0;\n",
        "for sentence in test_clean_sentences:\n",
        "  print(sentence,\":\",predicted_labels_kmeans[i])\n",
        "  i+=1\n",
        "\n",
        "print (\"\\n\")\n",
        "\n",
        "\n",
        "\n"
      ]
    },
    {
      "cell_type": "code",
      "source": [
        "from google.colab import drive\n",
        "drive.mount('/content/drive')"
      ],
      "metadata": {
        "colab": {
          "base_uri": "https://localhost:8080/"
        },
        "id": "1jNK0EUcwcIT",
        "outputId": "3b3c8da4-91e0-4e3c-a771-2362225f6511"
      },
      "execution_count": null,
      "outputs": [
        {
          "output_type": "stream",
          "name": "stdout",
          "text": [
            "Mounted at /content/drive\n"
          ]
        }
      ]
    },
    {
      "cell_type": "markdown",
      "source": [
        "Accuracy per KNN"
      ],
      "metadata": {
        "id": "Mt5-LcofMGXZ"
      }
    },
    {
      "cell_type": "code",
      "source": [
        "#Import scikit-learn metrics module for accuracy calculation\n",
        "from sklearn import metrics\n",
        "y_test = []\n",
        "i = 0\n",
        "for i in range(0,18):\n",
        "  if i < 8:\n",
        "    y_test.append(0)\n",
        "  if (i >=8 and i<=17):\n",
        "    y_test.append(1)\n",
        "\n",
        "print(y_test)\n",
        "\n",
        "print(\"Accuracy KNN:\",metrics.accuracy_score(y_test, predicted_labels_knn))\n",
        "\n",
        "\n",
        "y_test_Kmeans = []\n",
        "i = 0\n",
        "for i in range(0,18):\n",
        "  if i < 8:\n",
        "    y_test_Kmeans.append(1)\n",
        "  if (i >=8 and i<=18):\n",
        "    y_test_Kmeans.append(0)\n",
        "  \n",
        "print(predicted_labels_kmeans)\n",
        "print(\"Accuracy KMeans:\",metrics.accuracy_score(y_test_Kmeans, predicted_labels_kmeans))\n",
        "\n",
        "from sklearn.metrics import accuracy_score, classification_report\n",
        "print(\"============== KNN ===================\")\n",
        "print(classification_report(y_test, predicted_labels_knn))\n",
        "print(\"============== KMEANS ===================\")\n",
        "print(classification_report(y_test_Kmeans, predicted_labels_kmeans))\n",
        "\n",
        "\n"
      ],
      "metadata": {
        "id": "P3T1ju1OO5l0",
        "colab": {
          "base_uri": "https://localhost:8080/"
        },
        "outputId": "5894ecd0-2c38-4e1a-b82f-4bbc77078c92"
      },
      "execution_count": null,
      "outputs": [
        {
          "output_type": "stream",
          "name": "stdout",
          "text": [
            "[0, 0, 0, 0, 0, 0, 0, 0, 1, 1, 1, 1, 1, 1, 1, 1, 1, 1]\n",
            "Accuracy KNN: 0.8333333333333334\n",
            "[1 1 1 1 0 1 1 1 0 0 0 0 0 0 0 0 0 0]\n",
            "Accuracy KMeans: 0.9444444444444444\n",
            "============== KNN ===================\n",
            "              precision    recall  f1-score   support\n",
            "\n",
            "         0.0       0.80      1.00      0.89         8\n",
            "         1.0       1.00      0.70      0.82        10\n",
            "         2.0       0.00      0.00      0.00         0\n",
            "\n",
            "    accuracy                           0.83        18\n",
            "   macro avg       0.60      0.57      0.57        18\n",
            "weighted avg       0.91      0.83      0.85        18\n",
            "\n",
            "============== KMEANS ===================\n",
            "              precision    recall  f1-score   support\n",
            "\n",
            "           0       0.91      1.00      0.95        10\n",
            "           1       1.00      0.88      0.93         8\n",
            "\n",
            "    accuracy                           0.94        18\n",
            "   macro avg       0.95      0.94      0.94        18\n",
            "weighted avg       0.95      0.94      0.94        18\n",
            "\n"
          ]
        },
        {
          "output_type": "stream",
          "name": "stderr",
          "text": [
            "/usr/local/lib/python3.7/dist-packages/sklearn/metrics/_classification.py:1318: UndefinedMetricWarning: Recall and F-score are ill-defined and being set to 0.0 in labels with no true samples. Use `zero_division` parameter to control this behavior.\n",
            "  _warn_prf(average, modifier, msg_start, len(result))\n",
            "/usr/local/lib/python3.7/dist-packages/sklearn/metrics/_classification.py:1318: UndefinedMetricWarning: Recall and F-score are ill-defined and being set to 0.0 in labels with no true samples. Use `zero_division` parameter to control this behavior.\n",
            "  _warn_prf(average, modifier, msg_start, len(result))\n",
            "/usr/local/lib/python3.7/dist-packages/sklearn/metrics/_classification.py:1318: UndefinedMetricWarning: Recall and F-score are ill-defined and being set to 0.0 in labels with no true samples. Use `zero_division` parameter to control this behavior.\n",
            "  _warn_prf(average, modifier, msg_start, len(result))\n"
          ]
        }
      ]
    },
    {
      "cell_type": "code",
      "source": [
        "import matplotlib.pyplot as plt\n",
        "plt.figure(figsize = (15,5))\n",
        "plt.subplot(1,2,1)\n",
        "plt.scatter(y_test, y_test,c=predicted_labels_knn, marker= '*', s=100,edgecolors='black')\n",
        "plt.title(\"Vlerat e parashikuara nga KNN\")\n",
        "\n",
        "plt.figure(figsize = (15,5))\n",
        "plt.subplot(1,2,1)\n",
        "plt.scatter(y_test_Kmeans,  y_test_Kmeans, c=predicted_labels_kmeans, marker= '*', s=100,edgecolors='black')\n",
        "plt.title(\"Vlerat e parashikuara nga KMeans\")"
      ],
      "metadata": {
        "colab": {
          "base_uri": "https://localhost:8080/",
          "height": 672
        },
        "id": "YRkmLOXRM_NZ",
        "outputId": "d80f571e-bcb5-4d21-e360-4fa3e7f33d80"
      },
      "execution_count": null,
      "outputs": [
        {
          "output_type": "execute_result",
          "data": {
            "text/plain": [
              "Text(0.5, 1.0, 'Vlerat e parashikuara nga KMeans')"
            ]
          },
          "metadata": {},
          "execution_count": 37
        },
        {
          "output_type": "display_data",
          "data": {
            "text/plain": [
              "<Figure size 1080x360 with 1 Axes>"
            ],
            "image/png": "[encoded data removed]"
          },
          "metadata": {
            "needs_background": "light"
          }
        },
        {
          "output_type": "display_data",
          "data": {
            "text/plain": [
              "<Figure size 1080x360 with 1 Axes>"
            ],
            "image/png": "[encoded data removed]"
          },
          "metadata": {
            "needs_background": "light"
          }
        }
      ]
    },
    {
      "cell_type": "code",
      "source": [
        "!apt install libcairo2-dev"
      ],
      "metadata": {
        "colab": {
          "base_uri": "https://localhost:8080/"
        },
        "id": "zqeT06B_kK6d",
        "outputId": "4f29ff5f-3d99-41c4-91cb-f9124ef039a4"
      },
      "execution_count": null,
      "outputs": [
        {
          "output_type": "stream",
          "name": "stdout",
          "text": [
            "Reading package lists... Done\n",
            "Building dependency tree       \n",
            "Reading state information... Done\n",
            "The following package was automatically installed and is no longer required:\n",
            "  libnvidia-common-460\n",
            "Use 'apt autoremove' to remove it.\n",
            "The following additional packages will be installed:\n",
            "  libcairo-script-interpreter2 libpixman-1-dev libxcb-shm0-dev\n",
            "Suggested packages:\n",
            "  libcairo2-doc\n",
            "The following NEW packages will be installed:\n",
            "  libcairo-script-interpreter2 libcairo2-dev libpixman-1-dev libxcb-shm0-dev\n",
            "0 upgraded, 4 newly installed, 0 to remove and 20 not upgraded.\n",
            "Need to get 930 kB of archives.\n",
            "After this operation, 3,986 kB of additional disk space will be used.\n",
            "Get:1 http://archive.ubuntu.com/ubuntu bionic-updates/main amd64 libcairo-script-interpreter2 amd64 1.15.10-2ubuntu0.1 [53.5 kB]\n",
            "Get:2 http://archive.ubuntu.com/ubuntu bionic/main amd64 libpixman-1-dev amd64 0.34.0-2 [244 kB]\n",
            "Get:3 http://archive.ubuntu.com/ubuntu bionic-updates/main amd64 libxcb-shm0-dev amd64 1.13-2~ubuntu18.04 [6,684 B]\n",
            "Get:4 http://archive.ubuntu.com/ubuntu bionic-updates/main amd64 libcairo2-dev amd64 1.15.10-2ubuntu0.1 [626 kB]\n",
            "Fetched 930 kB in 1s (1,277 kB/s)\n",
            "Selecting previously unselected package libcairo-script-interpreter2:amd64.\n",
            "(Reading database ... 157604 files and directories currently installed.)\n",
            "Preparing to unpack .../libcairo-script-interpreter2_1.15.10-2ubuntu0.1_amd64.deb ...\n",
            "Unpacking libcairo-script-interpreter2:amd64 (1.15.10-2ubuntu0.1) ...\n",
            "Selecting previously unselected package libpixman-1-dev:amd64.\n",
            "Preparing to unpack .../libpixman-1-dev_0.34.0-2_amd64.deb ...\n",
            "Unpacking libpixman-1-dev:amd64 (0.34.0-2) ...\n",
            "Selecting previously unselected package libxcb-shm0-dev:amd64.\n",
            "Preparing to unpack .../libxcb-shm0-dev_1.13-2~ubuntu18.04_amd64.deb ...\n",
            "Unpacking libxcb-shm0-dev:amd64 (1.13-2~ubuntu18.04) ...\n",
            "Selecting previously unselected package libcairo2-dev:amd64.\n",
            "Preparing to unpack .../libcairo2-dev_1.15.10-2ubuntu0.1_amd64.deb ...\n",
            "Unpacking libcairo2-dev:amd64 (1.15.10-2ubuntu0.1) ...\n",
            "Setting up libcairo-script-interpreter2:amd64 (1.15.10-2ubuntu0.1) ...\n",
            "Setting up libxcb-shm0-dev:amd64 (1.13-2~ubuntu18.04) ...\n",
            "Setting up libpixman-1-dev:amd64 (0.34.0-2) ...\n",
            "Setting up libcairo2-dev:amd64 (1.15.10-2ubuntu0.1) ...\n",
            "Processing triggers for libc-bin (2.27-3ubuntu1.5) ...\n"
          ]
        }
      ]
    },
    {
      "cell_type": "code",
      "source": [
        "!pip install pycairo\n",
        "import cairo"
      ],
      "metadata": {
        "colab": {
          "base_uri": "https://localhost:8080/"
        },
        "id": "RtxCyftUkO29",
        "outputId": "7ca1008c-dcb2-4c12-f9c1-48f19c779335"
      },
      "execution_count": null,
      "outputs": [
        {
          "output_type": "stream",
          "name": "stdout",
          "text": [
            "Looking in indexes: https://pypi.org/simple, https://us-python.pkg.dev/colab-wheels/public/simple/\n",
            "Collecting pycairo\n",
            "  Downloading pycairo-1.21.0.tar.gz (340 kB)\n",
            "\u001b[K     |████████████████████████████████| 340 kB 32.5 MB/s \n",
            "\u001b[?25h  Installing build dependencies ... \u001b[?25l\u001b[?25hdone\n",
            "  Getting requirements to build wheel ... \u001b[?25l\u001b[?25hdone\n",
            "    Preparing wheel metadata ... \u001b[?25l\u001b[?25hdone\n",
            "Building wheels for collected packages: pycairo\n",
            "  Building wheel for pycairo (PEP 517) ... \u001b[?25l\u001b[?25hdone\n",
            "  Created wheel for pycairo: filename=pycairo-1.21.0-cp37-cp37m-linux_x86_64.whl size=286850 sha256=f64b0cc674e51d4a5f60c7a6b2a6e5abb96013d5206d5cfc1e1b71a81aab8d42\n",
            "  Stored in directory: /root/.cache/pip/wheels/69/1e/e8/ea8e397b1bea0fcbcffad6477c5ced6550a2adc259ed400405\n",
            "Successfully built pycairo\n",
            "Installing collected packages: pycairo\n",
            "Successfully installed pycairo-1.21.0\n"
          ]
        }
      ]
    }
  ]
}